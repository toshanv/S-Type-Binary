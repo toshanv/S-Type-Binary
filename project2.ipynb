{
 "cells": [
  {
   "cell_type": "markdown",
   "id": "43715aee",
   "metadata": {},
   "source": [
    "# Project 2 - Binary with S-Type Planet\n",
    "# Brandon Shane, Ina Park, Toshan Vysyraju, Arya Lakshmanan"
   ]
  },
  {
   "cell_type": "code",
   "execution_count": 10,
   "id": "6f0c7898",
   "metadata": {},
   "outputs": [],
   "source": [
    "import numpy as np\n",
    "import matplotlib.pyplot as plt\n",
    "%matplotlib inline\n",
    "from scipy import integrate\n",
    "from astropy import constants as const\n",
    "from astropy import units as u"
   ]
  },
  {
   "cell_type": "code",
   "execution_count": 11,
   "id": "dfa14bf3",
   "metadata": {},
   "outputs": [],
   "source": [
    "#Defining given values here to be used later\n",
    "#Values are given in AU and solar masses\n",
    "M1 = 1\n",
    "M2 = 2\n",
    "M = M1 + M2\n",
    "a = 1\n",
    "e = 0\n",
    "mu = (M1*M2)/(M1+M2)"
   ]
  },
  {
   "cell_type": "code",
   "execution_count": 12,
   "id": "ba244672",
   "metadata": {},
   "outputs": [],
   "source": [
    "def df_2body(vec,t):\n",
    "    x1,y1,z1,vx1,vy1,vz1,x2,y2,z2,vx2,vy2,vz2 = vec\n",
    "\n",
    "    r = np.sqrt((x1-x2)**2 + (y1-y2)**2 + (z1-z2)**2)\n",
    "    GM1r3 = (M2*4.0*np.pi**2)/(r**3)\n",
    "    GM2r3 = (M1*4.0*np.pi**2)/(r**3)\n",
    "\n",
    "    dvec = np.zeros(len(vec))\n",
    "    dvec[0] = vx1\n",
    "    dvec[1] = vy1\n",
    "    dvec[2] = vz1\n",
    "    dvec[3] = GM1r3*(x2-x1)\n",
    "    dvec[4] = GM1r3*(y2-y1)\n",
    "    dvec[5] = GM1r3*(z2-z1)\n",
    "    dvec[6] = vx2\n",
    "    dvec[7] = vy2\n",
    "    dvec[8] = vz2\n",
    "    dvec[9] = GM2r3*(x1-x2)\n",
    "    dvec[10] = GM2r3*(y1-y2)\n",
    "    dvec[11] = GM2r3*(z1-z2)\n",
    "    return dvec"
   ]
  },
  {
   "cell_type": "code",
   "execution_count": 13,
   "id": "e7a89314",
   "metadata": {},
   "outputs": [
    {
     "name": "stdout",
     "output_type": "stream",
     "text": [
      "\n"
     ]
    }
   ],
   "source": [
    "# Here, we consider the time when out two bodies are furthest away\n",
    "# Additionally, we orient our axis such that both bodies lie on the x-axis\n",
    "x10 = -(mu/M1)*a\n",
    "x20 = (mu/M2)*a\n",
    "\n",
    "l = np.sqrt(4*(np.pi**2)*M*a*(1-e**2))\n",
    "\n",
    "v0 = l/(a*(1-e**2))\n",
    "\n",
    "vy10 = -(mu/M1)*v0\n",
    "vy20 = (mu/M2)*v0\n",
    "\n",
    "vec0 = np.array([x10, 0, 0,\n",
    "                 0, vy10, 0,\n",
    "                 x20, 0, 0,\n",
    "                 0, vy20, 0])\n",
    "\n",
    "P = np.sqrt((a**3)/M)\n",
    "tarr = np.linspace(0, P, 200)\n",
    "\n",
    "ans = integrate.odeint(df_2body, vec0, tarr)\n",
    "x1 = ans[:,0]\n",
    "y1 = ans[:,1]\n",
    "z1 = ans[:,2]\n",
    "vx1 = ans[:,3]\n",
    "vy1 = ans[:,4]\n",
    "vz1 = ans[:,5]\n",
    "x2 = ans[:,6]\n",
    "y2 = ans[:,7]\n",
    "z2 = ans[:,8]\n",
    "vx2 = ans[:,9]\n",
    "vy2 = ans[:,10]\n",
    "vz2 = ans[:,11]\n",
    "print()"
   ]
  },
  {
   "cell_type": "code",
   "execution_count": 14,
   "id": "8765c21e",
   "metadata": {},
   "outputs": [
    {
     "data": {
      "image/png": "[encoded data removed]",
      "text/plain": [
       "<Figure size 432x432 with 1 Axes>"
      ]
     },
     "metadata": {
      "needs_background": "light"
     },
     "output_type": "display_data"
    }
   ],
   "source": [
    "plt.figure(figsize=(6,6))\n",
    "plt.plot(x1,y1)\n",
    "plt.plot(x2,y2)\n",
    "plt.xlabel('x (AU)')\n",
    "plt.ylabel('y (AU)')\n",
    "plt.gca().set_aspect('equal')\n",
    "plt.show()"
   ]
  },
  {
   "cell_type": "markdown",
   "id": "f1cc6895",
   "metadata": {},
   "source": [
    "# Add third, massless object"
   ]
  },
  {
   "cell_type": "code",
   "execution_count": 1,
   "id": "f01c51f0",
   "metadata": {},
   "outputs": [],
   "source": [
    "M3 = 0"
   ]
  },
  {
   "cell_type": "code",
   "execution_count": null,
   "id": "cd55c590",
   "metadata": {},
   "outputs": [],
   "source": [
    "def df_3body(vec,t):\n",
    "    x1,y1,z1,vx1,vy1,vz1,x2,y2,z2,vx2,vy2,vz2,x3,y3,z3,vx3,vy3,vz3 = vec\n",
    "\n",
    "    r1 = np.sqrt((x1-x2)**2 + (y1-y2)**2 + (z1-z2)**2)\n",
    "    GM1r13 = (M2*4.0*np.pi**2)/(r1**3)\n",
    "    GM2r13 = (M1*4.0*np.pi**2)/(r1**3)\n",
    "    \n",
    "    r2 = np.sqrt((x2-x3)**2 + (y2-y3)**2 + (z2-z3)**2)\n",
    "    GM2r23 = (M3*4.0*np.pi**2)/(r2**3)\n",
    "    GM3r23 = (M2*4.0*np.pi**2)/(r2**3)\n",
    "    \n",
    "    r3 = np.sqrt((x3-x1)**2 + (y3-y1)**2 + (z3-z1)**2)\n",
    "    GM3r33 = (M1*4.0*np.pi**2)/(r3**3)\n",
    "    GM1r33 = (M3*4.0*np.pi**2)/(r3**3)\n",
    "\n",
    "    dvec = np.zeros(len(vec))\n",
    "    dvec[0] = vx1\n",
    "    dvec[1] = vy1\n",
    "    dvec[2] = vz1\n",
    "    dvec[3] = GM1r13*(x2-x1) + GM1r33*(x3-x1)\n",
    "    dvec[4] = GM1r13*(y2-y1)\n",
    "    dvec[5] = GM1r13*(z2-z1)\n",
    "    dvec[6] = vx2\n",
    "    dvec[7] = vy2\n",
    "    dvec[8] = vz2\n",
    "    dvec[9] = GM2r13*(x1-x2)\n",
    "    dvec[10] = GM2r13*(y1-y2)\n",
    "    dvec[11] = GM2r13*(z1-z2)\n",
    "    dvec[12] = vx3\n",
    "    dvec[13] = vy3\n",
    "    dvec[14] = vz3\n",
    "    dvec[15] = GM2r3*(x1-x2)\n",
    "    dvec[16] = GM2r3*(y1-y2)\n",
    "    dvec[17] = GM2r3*(z1-z2)\n",
    "    return dvec"
   ]
  }
 ],
 "metadata": {
  "kernelspec": {
   "display_name": "Python 3",
   "language": "python",
   "name": "python3"
  },
  "language_info": {
   "codemirror_mode": {
    "name": "ipython",
    "version": 3
   },
   "file_extension": ".py",
   "mimetype": "text/x-python",
   "name": "python",
   "nbconvert_exporter": "python",
   "pygments_lexer": "ipython3",
   "version": "3.8.8"
  }
 },
 "nbformat": 4,
 "nbformat_minor": 5
}
